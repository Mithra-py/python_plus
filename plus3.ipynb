{
  "nbformat": 4,
  "nbformat_minor": 0,
  "metadata": {
    "colab": {
      "name": "plus3.ipynb",
      "provenance": [],
      "collapsed_sections": [],
      "authorship_tag": "ABX9TyN+djAzve50lCNzxST3bSBU",
      "include_colab_link": true
    },
    "kernelspec": {
      "name": "python3",
      "display_name": "Python 3"
    },
    "language_info": {
      "name": "python"
    }
  },
  "cells": [
    {
      "cell_type": "markdown",
      "metadata": {
        "id": "view-in-github",
        "colab_type": "text"
      },
      "source": [
        "<a href=\"https://colab.research.google.com/github/Mithra-py/python_plus/blob/main/plus3.ipynb\" target=\"_parent\"><img src=\"https://colab.research.google.com/assets/colab-badge.svg\" alt=\"Open In Colab\"/></a>"
      ]
    },
    {
      "cell_type": "code",
      "execution_count": null,
      "metadata": {
        "id": "YWOXwdOiKv6Q"
      },
      "outputs": [],
      "source": [
        "a = \"I\"\n",
        "b = \"love\"\n",
        "c = \"you\""
      ]
    },
    {
      "cell_type": "code",
      "source": [
        "def texter(text1, text2, text3):\n",
        "  print(text2, text3, text1)"
      ],
      "metadata": {
        "id": "IXyNQdMJMtV7"
      },
      "execution_count": null,
      "outputs": []
    },
    {
      "cell_type": "code",
      "source": [
        "texter(c, a, b)"
      ],
      "metadata": {
        "colab": {
          "base_uri": "https://localhost:8080/"
        },
        "id": "nN7fIrVnM9Vd",
        "outputId": "03023d0f-dc37-419a-c25c-de9e51689162"
      },
      "execution_count": null,
      "outputs": [
        {
          "output_type": "stream",
          "name": "stdout",
          "text": [
            "I love you\n"
          ]
        }
      ]
    },
    {
      "cell_type": "code",
      "source": [
        "texter(text1 = \"you\", text3 = \"love\", text2 = \"i\")"
      ],
      "metadata": {
        "colab": {
          "base_uri": "https://localhost:8080/"
        },
        "id": "BCp56paVNBua",
        "outputId": "a9f5de17-eef4-4c62-e481-7ba6f1fd3073"
      },
      "execution_count": null,
      "outputs": [
        {
          "output_type": "stream",
          "name": "stdout",
          "text": [
            "i love you\n"
          ]
        }
      ]
    },
    {
      "cell_type": "code",
      "source": [
        "def fonksiyon(x = \"ali\", y = 22):\n",
        "  print(x, y, \"yaşındadır.\")"
      ],
      "metadata": {
        "id": "-6egMRYuOayE"
      },
      "execution_count": null,
      "outputs": []
    },
    {
      "cell_type": "code",
      "source": [
        "fonksiyon()"
      ],
      "metadata": {
        "colab": {
          "base_uri": "https://localhost:8080/"
        },
        "id": "znSzC2KHO8g6",
        "outputId": "7b1ab1da-e036-42ac-8f8d-349e36f0cfad"
      },
      "execution_count": null,
      "outputs": [
        {
          "output_type": "stream",
          "name": "stdout",
          "text": [
            "ali 22 yaşındadır.\n"
          ]
        }
      ]
    },
    {
      "cell_type": "code",
      "source": [
        "fonksiyon(x = \"mehmet\", y = 33)"
      ],
      "metadata": {
        "colab": {
          "base_uri": "https://localhost:8080/"
        },
        "id": "7lQeMTXHO9p-",
        "outputId": "29ef1715-380b-4f41-bdac-7361f0f35f00"
      },
      "execution_count": null,
      "outputs": [
        {
          "output_type": "stream",
          "name": "stdout",
          "text": [
            "mehmet 33 yaşındadır.\n"
          ]
        }
      ]
    },
    {
      "cell_type": "code",
      "source": [
        "fonksiyon(\"erdem\", 40)"
      ],
      "metadata": {
        "colab": {
          "base_uri": "https://localhost:8080/"
        },
        "id": "za0UFWRYPIQS",
        "outputId": "f6ca6c94-caa9-4188-fd1c-666a6305cb97"
      },
      "execution_count": null,
      "outputs": [
        {
          "output_type": "stream",
          "name": "stdout",
          "text": [
            "erdem 40 yaşındadır.\n"
          ]
        }
      ]
    },
    {
      "cell_type": "code",
      "source": [
        "fonksiyon(\"ramazan\")"
      ],
      "metadata": {
        "colab": {
          "base_uri": "https://localhost:8080/"
        },
        "id": "fQo9JJy8PV6s",
        "outputId": "d53577b0-3d11-4425-e999-abad60f9a4f2"
      },
      "execution_count": null,
      "outputs": [
        {
          "output_type": "stream",
          "name": "stdout",
          "text": [
            "ramazan 22 yaşındadır.\n"
          ]
        }
      ]
    },
    {
      "cell_type": "code",
      "source": [
        "fonksiyon(_, 25)"
      ],
      "metadata": {
        "colab": {
          "base_uri": "https://localhost:8080/"
        },
        "id": "LHoCb1hmPt-V",
        "outputId": "31ef88ba-0c37-4b92-bf22-b114b7646c96"
      },
      "execution_count": null,
      "outputs": [
        {
          "output_type": "stream",
          "name": "stdout",
          "text": [
            " 25 yaşındadır.\n"
          ]
        }
      ]
    },
    {
      "cell_type": "code",
      "source": [
        "fonksiyon(, 25)"
      ],
      "metadata": {
        "colab": {
          "base_uri": "https://localhost:8080/",
          "height": 131
        },
        "id": "bcst9syFPx3_",
        "outputId": "4315380d-6b41-49bc-b6af-e88980c10ddd"
      },
      "execution_count": null,
      "outputs": [
        {
          "output_type": "error",
          "ename": "SyntaxError",
          "evalue": "ignored",
          "traceback": [
            "\u001b[0;36m  File \u001b[0;32m\"<ipython-input-15-ed5381d76c69>\"\u001b[0;36m, line \u001b[0;32m1\u001b[0m\n\u001b[0;31m    fonksiyon(, 25)\u001b[0m\n\u001b[0m              ^\u001b[0m\n\u001b[0;31mSyntaxError\u001b[0m\u001b[0;31m:\u001b[0m invalid syntax\n"
          ]
        }
      ]
    },
    {
      "cell_type": "code",
      "source": [
        "def parrot(voltage, state=\"a stiff\", action=\"voom\", type=\"Norwegian Blue\"):\n",
        "  print(\"-- This parrot wouldn't\", action, end=\" \")\n",
        "  print(\"if you put\", voltage, \"volts through it.\")\n",
        "  print(\"-- Lovely plumage, the\", type)\n",
        "  print(\"-- It's\", state, \"!\")"
      ],
      "metadata": {
        "id": "2AaCqEcFP1Ce"
      },
      "execution_count": null,
      "outputs": []
    },
    {
      "cell_type": "code",
      "source": [
        "parrot(1000)"
      ],
      "metadata": {
        "colab": {
          "base_uri": "https://localhost:8080/"
        },
        "id": "xYSVg_1lRK7s",
        "outputId": "26712c83-d1a5-41ae-c62d-2fcd40add17b"
      },
      "execution_count": null,
      "outputs": [
        {
          "output_type": "stream",
          "name": "stdout",
          "text": [
            "-- This parrot wouldn't voom if you put 1000 volts through it.\n",
            "-- Lovely plumage, the Norwegian Blue\n",
            "-- It's a stiff !\n"
          ]
        }
      ]
    },
    {
      "cell_type": "code",
      "source": [
        "parrot(voltage=1000000, action='VOOOOOM')"
      ],
      "metadata": {
        "colab": {
          "base_uri": "https://localhost:8080/"
        },
        "id": "VxVZcamJRTH5",
        "outputId": "9f40c90c-d104-4b92-a65e-4840a3a8c464"
      },
      "execution_count": null,
      "outputs": [
        {
          "output_type": "stream",
          "name": "stdout",
          "text": [
            "-- This parrot wouldn't VOOOOOM if you put 1000000 volts through it.\n",
            "-- Lovely plumage, the Norwegian Blue\n",
            "-- It's a stiff !\n"
          ]
        }
      ]
    },
    {
      "cell_type": "code",
      "source": [
        "parrot(\"a million\", \"bereft of life\", \"jump\")"
      ],
      "metadata": {
        "colab": {
          "base_uri": "https://localhost:8080/"
        },
        "id": "XMYXr0G3ZC8X",
        "outputId": "67e396bc-6701-41ea-abd7-b441ebad6edf"
      },
      "execution_count": null,
      "outputs": [
        {
          "output_type": "stream",
          "name": "stdout",
          "text": [
            "-- This parrot wouldn't jump if you put a million volts through it.\n",
            "-- Lovely plumage, the Norwegian Blue\n",
            "-- It's bereft of life !\n"
          ]
        }
      ]
    },
    {
      "cell_type": "code",
      "source": [
        "parrot(\"a thousand\", state = \"pushing up the daisies\")"
      ],
      "metadata": {
        "colab": {
          "base_uri": "https://localhost:8080/"
        },
        "id": "2496zg3oZWbR",
        "outputId": "90548324-3dde-4197-c699-852204fe1d97"
      },
      "execution_count": null,
      "outputs": [
        {
          "output_type": "stream",
          "name": "stdout",
          "text": [
            "-- This parrot wouldn't voom if you put a thousand volts through it.\n",
            "-- Lovely plumage, the Norwegian Blue\n",
            "-- It's pushing up the daisies !\n"
          ]
        }
      ]
    },
    {
      "cell_type": "code",
      "source": [
        "parrot(voltage=5, \"dead\")"
      ],
      "metadata": {
        "colab": {
          "base_uri": "https://localhost:8080/",
          "height": 131
        },
        "id": "yvXqSyaoZ4_I",
        "outputId": "60059010-b11d-456a-9cb2-0e0dacabee22"
      },
      "execution_count": null,
      "outputs": [
        {
          "output_type": "error",
          "ename": "SyntaxError",
          "evalue": "ignored",
          "traceback": [
            "\u001b[0;36m  File \u001b[0;32m\"<ipython-input-22-1e819ba30355>\"\u001b[0;36m, line \u001b[0;32m1\u001b[0m\n\u001b[0;31m    parrot(voltage=5, \"dead\")\u001b[0m\n\u001b[0m                     ^\u001b[0m\n\u001b[0;31mSyntaxError\u001b[0m\u001b[0;31m:\u001b[0m positional argument follows keyword argument\n"
          ]
        }
      ]
    },
    {
      "cell_type": "code",
      "source": [
        "parrot(state = \"ball\", \"a billion\")"
      ],
      "metadata": {
        "colab": {
          "base_uri": "https://localhost:8080/",
          "height": 131
        },
        "id": "LD1nMyB8aLTK",
        "outputId": "55d74f10-d766-412d-954e-cb966aca34a9"
      },
      "execution_count": null,
      "outputs": [
        {
          "output_type": "error",
          "ename": "SyntaxError",
          "evalue": "ignored",
          "traceback": [
            "\u001b[0;36m  File \u001b[0;32m\"<ipython-input-23-abee362784b6>\"\u001b[0;36m, line \u001b[0;32m1\u001b[0m\n\u001b[0;31m    parrot(state = \"ball\", \"a billion\")\u001b[0m\n\u001b[0m                          ^\u001b[0m\n\u001b[0;31mSyntaxError\u001b[0m\u001b[0;31m:\u001b[0m positional argument follows keyword argument\n"
          ]
        }
      ]
    },
    {
      "cell_type": "code",
      "source": [
        "def argu(a, b = \"dünya\", c, d = \"satürn\"):\n",
        "  print(a, b, c, d, sep = \"\\n\")"
      ],
      "metadata": {
        "colab": {
          "base_uri": "https://localhost:8080/",
          "height": 131
        },
        "id": "1rOOiWT6aUb9",
        "outputId": "9136c9a5-767c-4fc1-8af0-b3cf3e21b5f9"
      },
      "execution_count": null,
      "outputs": [
        {
          "output_type": "error",
          "ename": "SyntaxError",
          "evalue": "ignored",
          "traceback": [
            "\u001b[0;36m  File \u001b[0;32m\"<ipython-input-24-9a09807408f3>\"\u001b[0;36m, line \u001b[0;32m1\u001b[0m\n\u001b[0;31m    def argu(a, b = \"dünya\", c, d = \"satürn\"):\u001b[0m\n\u001b[0m            ^\u001b[0m\n\u001b[0;31mSyntaxError\u001b[0m\u001b[0;31m:\u001b[0m non-default argument follows default argument\n"
          ]
        }
      ]
    },
    {
      "cell_type": "code",
      "source": [
        "def argu(a, c, b = \"dünya\", d = \"satürn\"):\n",
        "  print(a, b, c, d, sep = \"\\n\")"
      ],
      "metadata": {
        "id": "A-pJozWVajPn"
      },
      "execution_count": null,
      "outputs": []
    },
    {
      "cell_type": "code",
      "source": [
        "argu()"
      ],
      "metadata": {
        "colab": {
          "base_uri": "https://localhost:8080/",
          "height": 166
        },
        "id": "4Nis74Kya9a_",
        "outputId": "f8430a5e-ebdf-4901-a54c-814ad80fa446"
      },
      "execution_count": null,
      "outputs": [
        {
          "output_type": "error",
          "ename": "TypeError",
          "evalue": "ignored",
          "traceback": [
            "\u001b[0;31m---------------------------------------------------------------------------\u001b[0m",
            "\u001b[0;31mTypeError\u001b[0m                                 Traceback (most recent call last)",
            "\u001b[0;32m<ipython-input-28-2743aba80a34>\u001b[0m in \u001b[0;36m<module>\u001b[0;34m\u001b[0m\n\u001b[0;32m----> 1\u001b[0;31m \u001b[0margu\u001b[0m\u001b[0;34m(\u001b[0m\u001b[0;34m)\u001b[0m\u001b[0;34m\u001b[0m\u001b[0;34m\u001b[0m\u001b[0m\n\u001b[0m",
            "\u001b[0;31mTypeError\u001b[0m: argu() missing 2 required positional arguments: 'a' and 'c'"
          ]
        }
      ]
    },
    {
      "cell_type": "code",
      "source": [
        "argu(\"uranus\", \"jüpiter\")"
      ],
      "metadata": {
        "colab": {
          "base_uri": "https://localhost:8080/"
        },
        "id": "xLFUB-O6avyw",
        "outputId": "295333f1-8a0c-49e8-f31a-807e9858a8a4"
      },
      "execution_count": null,
      "outputs": [
        {
          "output_type": "stream",
          "name": "stdout",
          "text": [
            "uranus\n",
            "dünya\n",
            "jüpiter\n",
            "satürn\n"
          ]
        }
      ]
    },
    {
      "cell_type": "code",
      "source": [
        "argu(a = \"uranüs\", c = \"jüpiter\")"
      ],
      "metadata": {
        "colab": {
          "base_uri": "https://localhost:8080/"
        },
        "id": "GHqBtXutbLML",
        "outputId": "19993c11-1c3e-40d4-eefa-d9d2770ecd35"
      },
      "execution_count": null,
      "outputs": [
        {
          "output_type": "stream",
          "name": "stdout",
          "text": [
            "uranüs\n",
            "dünya\n",
            "jüpiter\n",
            "satürn\n"
          ]
        }
      ]
    },
    {
      "cell_type": "code",
      "source": [
        "argu(\"plüto\", c = \"venüs\", \"mars\")"
      ],
      "metadata": {
        "colab": {
          "base_uri": "https://localhost:8080/",
          "height": 131
        },
        "id": "JO9QGwQObYIC",
        "outputId": "cb03a5f0-e271-41bf-b48a-5a45a1352d56"
      },
      "execution_count": null,
      "outputs": [
        {
          "output_type": "error",
          "ename": "SyntaxError",
          "evalue": "ignored",
          "traceback": [
            "\u001b[0;36m  File \u001b[0;32m\"<ipython-input-32-5c83c5dd5081>\"\u001b[0;36m, line \u001b[0;32m1\u001b[0m\n\u001b[0;31m    argu(\"plüto\", c = \"venüs\", \"mars\")\u001b[0m\n\u001b[0m                                ^\u001b[0m\n\u001b[0;31mSyntaxError\u001b[0m\u001b[0;31m:\u001b[0m positional argument follows keyword argument\n"
          ]
        }
      ]
    },
    {
      "cell_type": "code",
      "source": [
        "argu(\"plüto\", \"mars\", c = \"venüs\")"
      ],
      "metadata": {
        "colab": {
          "base_uri": "https://localhost:8080/",
          "height": 166
        },
        "id": "2hrnqyx5b8nV",
        "outputId": "132d6385-5550-411b-cc64-59a492342a79"
      },
      "execution_count": null,
      "outputs": [
        {
          "output_type": "error",
          "ename": "TypeError",
          "evalue": "ignored",
          "traceback": [
            "\u001b[0;31m---------------------------------------------------------------------------\u001b[0m",
            "\u001b[0;31mTypeError\u001b[0m                                 Traceback (most recent call last)",
            "\u001b[0;32m<ipython-input-33-4e39c7bf3245>\u001b[0m in \u001b[0;36m<module>\u001b[0;34m\u001b[0m\n\u001b[0;32m----> 1\u001b[0;31m \u001b[0margu\u001b[0m\u001b[0;34m(\u001b[0m\u001b[0;34m\"plüto\"\u001b[0m\u001b[0;34m,\u001b[0m \u001b[0;34m\"mars\"\u001b[0m\u001b[0;34m,\u001b[0m \u001b[0mc\u001b[0m \u001b[0;34m=\u001b[0m \u001b[0;34m\"venüs\"\u001b[0m\u001b[0;34m)\u001b[0m\u001b[0;34m\u001b[0m\u001b[0;34m\u001b[0m\u001b[0m\n\u001b[0m",
            "\u001b[0;31mTypeError\u001b[0m: argu() got multiple values for argument 'c'"
          ]
        }
      ]
    },
    {
      "cell_type": "code",
      "source": [
        "argu(d = \"güneş\", a = \"dünya\", c =  \"plüto\", b = \"venüs\")"
      ],
      "metadata": {
        "colab": {
          "base_uri": "https://localhost:8080/"
        },
        "id": "7RA-9hxqcXaH",
        "outputId": "af6a91cb-bf37-4530-d576-3cdf129eeee8"
      },
      "execution_count": null,
      "outputs": [
        {
          "output_type": "stream",
          "name": "stdout",
          "text": [
            "dünya\n",
            "venüs\n",
            "plüto\n",
            "güneş\n"
          ]
        }
      ]
    },
    {
      "cell_type": "code",
      "source": [
        "argu(\"güneş\", \"dünya\", \"plüto\", \"venüs\")"
      ],
      "metadata": {
        "colab": {
          "base_uri": "https://localhost:8080/"
        },
        "id": "v9w2riUKcmBu",
        "outputId": "60e1926d-7896-4b21-a3d0-c126bdca8aac"
      },
      "execution_count": null,
      "outputs": [
        {
          "output_type": "stream",
          "name": "stdout",
          "text": [
            "güneş\n",
            "plüto\n",
            "dünya\n",
            "venüs\n"
          ]
        }
      ]
    },
    {
      "cell_type": "markdown",
      "source": [
        "Armstrong Numbers"
      ],
      "metadata": {
        "id": "WPGJzI9pd-1b"
      }
    },
    {
      "cell_type": "code",
      "source": [
        "while True:\n",
        "  \n",
        "  number = input(\"Enter a positive integer number :\")\n",
        "  digits = len(number)\n",
        "  summ = 0\n",
        "  \n",
        "  if not number.isdigit :\n",
        "    print(number, \" is invalid entry. Enter valid input\")\n",
        "  \n",
        "  elif int(number) >= 0 :\n",
        "    for i in range(digits) :\n",
        "      summ = summ + int(number[i]) ** digits\n",
        "    if summ == int(number):\n",
        "      print(number, \"is an Armstrong Number\")\n",
        "      break\n",
        "    else :\n",
        "      print(number, \"is not Armstrong Number\")\n",
        "      break"
      ],
      "metadata": {
        "colab": {
          "base_uri": "https://localhost:8080/"
        },
        "id": "9gjwRPTWcu61",
        "outputId": "83d40f52-f824-4d5f-8a6a-09e909757891"
      },
      "execution_count": null,
      "outputs": [
        {
          "output_type": "stream",
          "name": "stdout",
          "text": [
            "Enter a positive integer number :15602314\n",
            "15602314 is not Armstrong Number\n"
          ]
        }
      ]
    },
    {
      "cell_type": "markdown",
      "source": [
        "Prime Number"
      ],
      "metadata": {
        "id": "-sfxduuViOcB"
      }
    },
    {
      "cell_type": "code",
      "source": [
        "n = int(input(\"Enter a positive number to check if it is a Prime Number \"))\n",
        "counter = 0\n",
        " \n",
        "for i in range(1, n + 1):\n",
        "   if n % i == 0 :\n",
        "     counter += 1\n",
        "\n",
        "if (n == 0) or (n == 1) or (counter >= 3):\n",
        "  print(n, \" is not a Prime Number\")\n",
        "else:\n",
        "  print(n, \" is a Prime Number\")"
      ],
      "metadata": {
        "colab": {
          "base_uri": "https://localhost:8080/"
        },
        "id": "Aj8Ibh-PgfGD",
        "outputId": "75bc7303-b4af-4c6f-dec6-d20f1961175a"
      },
      "execution_count": null,
      "outputs": [
        {
          "output_type": "stream",
          "name": "stdout",
          "text": [
            "Enter a positive number to check if it is a Prime Number 33336667\n",
            "33336667  is not a Prime Number\n"
          ]
        }
      ]
    },
    {
      "cell_type": "code",
      "source": [
        ""
      ],
      "metadata": {
        "id": "8SyGfBAriQNU"
      },
      "execution_count": null,
      "outputs": []
    }
  ]
}