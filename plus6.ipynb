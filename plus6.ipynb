{
  "nbformat": 4,
  "nbformat_minor": 0,
  "metadata": {
    "colab": {
      "name": "plus6.ipynb",
      "provenance": [],
      "collapsed_sections": [],
      "authorship_tag": "ABX9TyMOw1c9Xy/bz45Z/uA7MuY1",
      "include_colab_link": true
    },
    "kernelspec": {
      "name": "python3",
      "display_name": "Python 3"
    },
    "language_info": {
      "name": "python"
    }
  },
  "cells": [
    {
      "cell_type": "markdown",
      "metadata": {
        "id": "view-in-github",
        "colab_type": "text"
      },
      "source": [
        "<a href=\"https://colab.research.google.com/github/Mithra-py/python_plus/blob/main/plus6.ipynb\" target=\"_parent\"><img src=\"https://colab.research.google.com/assets/colab-badge.svg\" alt=\"Open In Colab\"/></a>"
      ]
    },
    {
      "cell_type": "code",
      "execution_count": null,
      "metadata": {
        "colab": {
          "base_uri": "https://localhost:8080/",
          "height": 131
        },
        "id": "hK7xY6Xfzzqk",
        "outputId": "d57d55e3-5c3e-4f59-f464-4c6acd8a49f2"
      },
      "outputs": [
        {
          "output_type": "error",
          "ename": "SyntaxError",
          "evalue": "ignored",
          "traceback": [
            "\u001b[0;36m  File \u001b[0;32m\"<ipython-input-1-8b935604b002>\"\u001b[0;36m, line \u001b[0;32m2\u001b[0m\n\u001b[0;31m    print(hello\u001b[0m\n\u001b[0m               ^\u001b[0m\n\u001b[0;31mSyntaxError\u001b[0m\u001b[0;31m:\u001b[0m unexpected EOF while parsing\n"
          ]
        }
      ],
      "source": [
        "# This is a syntax error.\n",
        "print(\"hello\")\n",
        "print(hello"
      ]
    },
    {
      "cell_type": "code",
      "source": [
        "# This is an exception error.\n",
        "print(\"hello\")\n",
        "print(hello)"
      ],
      "metadata": {
        "colab": {
          "base_uri": "https://localhost:8080/",
          "height": 218
        },
        "id": "V22hduClz7mz",
        "outputId": "37d66ecd-a111-4ba4-e2dc-02f55fdd5693"
      },
      "execution_count": null,
      "outputs": [
        {
          "output_type": "stream",
          "name": "stdout",
          "text": [
            "hello\n"
          ]
        },
        {
          "output_type": "error",
          "ename": "NameError",
          "evalue": "ignored",
          "traceback": [
            "\u001b[0;31m---------------------------------------------------------------------------\u001b[0m",
            "\u001b[0;31mNameError\u001b[0m                                 Traceback (most recent call last)",
            "\u001b[0;32m<ipython-input-3-324457a441f8>\u001b[0m in \u001b[0;36m<module>\u001b[0;34m\u001b[0m\n\u001b[1;32m      1\u001b[0m \u001b[0;31m# This is an exception error.\u001b[0m\u001b[0;34m\u001b[0m\u001b[0;34m\u001b[0m\u001b[0;34m\u001b[0m\u001b[0m\n\u001b[1;32m      2\u001b[0m \u001b[0mprint\u001b[0m\u001b[0;34m(\u001b[0m\u001b[0;34m\"hello\"\u001b[0m\u001b[0;34m)\u001b[0m\u001b[0;34m\u001b[0m\u001b[0;34m\u001b[0m\u001b[0m\n\u001b[0;32m----> 3\u001b[0;31m \u001b[0mprint\u001b[0m\u001b[0;34m(\u001b[0m\u001b[0mhello\u001b[0m\u001b[0;34m)\u001b[0m\u001b[0;34m\u001b[0m\u001b[0;34m\u001b[0m\u001b[0m\n\u001b[0m",
            "\u001b[0;31mNameError\u001b[0m: name 'hello' is not defined"
          ]
        }
      ]
    },
    {
      "cell_type": "code",
      "source": [
        "# This is a value error.\n",
        "print(int('ten'))"
      ],
      "metadata": {
        "colab": {
          "base_uri": "https://localhost:8080/",
          "height": 166
        },
        "id": "G-6xQSws0WuB",
        "outputId": "fbed0206-933a-484a-a29f-f2b7e350c5f4"
      },
      "execution_count": null,
      "outputs": [
        {
          "output_type": "error",
          "ename": "ValueError",
          "evalue": "ignored",
          "traceback": [
            "\u001b[0;31m---------------------------------------------------------------------------\u001b[0m",
            "\u001b[0;31mValueError\u001b[0m                                Traceback (most recent call last)",
            "\u001b[0;32m<ipython-input-4-1fe0c5042e33>\u001b[0m in \u001b[0;36m<module>\u001b[0;34m\u001b[0m\n\u001b[0;32m----> 1\u001b[0;31m \u001b[0mprint\u001b[0m\u001b[0;34m(\u001b[0m\u001b[0mint\u001b[0m\u001b[0;34m(\u001b[0m\u001b[0;34m'ten'\u001b[0m\u001b[0;34m)\u001b[0m\u001b[0;34m)\u001b[0m\u001b[0;34m\u001b[0m\u001b[0;34m\u001b[0m\u001b[0m\n\u001b[0m",
            "\u001b[0;31mValueError\u001b[0m: invalid literal for int() with base 10: 'ten'"
          ]
        }
      ]
    },
    {
      "cell_type": "code",
      "source": [
        "import math"
      ],
      "metadata": {
        "id": "EBi2bkb71v4L"
      },
      "execution_count": null,
      "outputs": []
    },
    {
      "cell_type": "code",
      "source": [
        "math.sqrt(25)"
      ],
      "metadata": {
        "colab": {
          "base_uri": "https://localhost:8080/"
        },
        "id": "nbti_Gi02NgQ",
        "outputId": "9afc4472-3286-4785-8881-8a73e87688f2"
      },
      "execution_count": null,
      "outputs": [
        {
          "output_type": "execute_result",
          "data": {
            "text/plain": [
              "5.0"
            ]
          },
          "metadata": {},
          "execution_count": 6
        }
      ]
    },
    {
      "cell_type": "code",
      "source": [
        "math.sqrt(-25)"
      ],
      "metadata": {
        "colab": {
          "base_uri": "https://localhost:8080/",
          "height": 166
        },
        "id": "3ZTweO4c2ZcD",
        "outputId": "c2e3d261-e346-4a4e-d8f5-a98c9e53c631"
      },
      "execution_count": null,
      "outputs": [
        {
          "output_type": "error",
          "ename": "ValueError",
          "evalue": "ignored",
          "traceback": [
            "\u001b[0;31m---------------------------------------------------------------------------\u001b[0m",
            "\u001b[0;31mValueError\u001b[0m                                Traceback (most recent call last)",
            "\u001b[0;32m<ipython-input-7-d80dea1ee982>\u001b[0m in \u001b[0;36m<module>\u001b[0;34m\u001b[0m\n\u001b[0;32m----> 1\u001b[0;31m \u001b[0mmath\u001b[0m\u001b[0;34m.\u001b[0m\u001b[0msqrt\u001b[0m\u001b[0;34m(\u001b[0m\u001b[0;34m-\u001b[0m\u001b[0;36m25\u001b[0m\u001b[0;34m)\u001b[0m\u001b[0;34m\u001b[0m\u001b[0;34m\u001b[0m\u001b[0m\n\u001b[0m",
            "\u001b[0;31mValueError\u001b[0m: math domain error"
          ]
        }
      ]
    },
    {
      "cell_type": "code",
      "source": [
        "def my_facto(n) :\n",
        "  \n",
        "  if n == 1 or n == 0:\n",
        "    return 1\n",
        "  else :\n",
        "    return n * my_facto(n - 1)"
      ],
      "metadata": {
        "id": "QAZmjaQB2b6O"
      },
      "execution_count": null,
      "outputs": []
    },
    {
      "cell_type": "code",
      "source": [
        "my_facto(4)"
      ],
      "metadata": {
        "colab": {
          "base_uri": "https://localhost:8080/"
        },
        "id": "aCiXLRMf6sZo",
        "outputId": "4d83cee6-4361-48e0-e154-12ff0b7ceed9"
      },
      "execution_count": null,
      "outputs": [
        {
          "output_type": "execute_result",
          "data": {
            "text/plain": [
              "24"
            ]
          },
          "metadata": {},
          "execution_count": 9
        }
      ]
    },
    {
      "cell_type": "code",
      "source": [
        "print(ahmet)"
      ],
      "metadata": {
        "colab": {
          "base_uri": "https://localhost:8080/",
          "height": 166
        },
        "id": "bQec5WKK6u__",
        "outputId": "6542407b-ea23-4e7e-deeb-39aced32bac1"
      },
      "execution_count": null,
      "outputs": [
        {
          "output_type": "error",
          "ename": "NameError",
          "evalue": "ignored",
          "traceback": [
            "\u001b[0;31m---------------------------------------------------------------------------\u001b[0m",
            "\u001b[0;31mNameError\u001b[0m                                 Traceback (most recent call last)",
            "\u001b[0;32m<ipython-input-10-84cf8c8ac7ff>\u001b[0m in \u001b[0;36m<module>\u001b[0;34m\u001b[0m\n\u001b[0;32m----> 1\u001b[0;31m \u001b[0mprint\u001b[0m\u001b[0;34m(\u001b[0m\u001b[0mahmet\u001b[0m\u001b[0;34m)\u001b[0m\u001b[0;34m\u001b[0m\u001b[0;34m\u001b[0m\u001b[0m\n\u001b[0m",
            "\u001b[0;31mNameError\u001b[0m: name 'ahmet' is not defined"
          ]
        }
      ]
    },
    {
      "cell_type": "code",
      "source": [
        "print(2 + \"2\")"
      ],
      "metadata": {
        "colab": {
          "base_uri": "https://localhost:8080/",
          "height": 166
        },
        "id": "D4BXx1U49VN8",
        "outputId": "96b6f85e-4885-479a-9b2a-e0660172728f"
      },
      "execution_count": null,
      "outputs": [
        {
          "output_type": "error",
          "ename": "TypeError",
          "evalue": "ignored",
          "traceback": [
            "\u001b[0;31m---------------------------------------------------------------------------\u001b[0m",
            "\u001b[0;31mTypeError\u001b[0m                                 Traceback (most recent call last)",
            "\u001b[0;32m<ipython-input-11-96788054896b>\u001b[0m in \u001b[0;36m<module>\u001b[0;34m\u001b[0m\n\u001b[0;32m----> 1\u001b[0;31m \u001b[0mprint\u001b[0m\u001b[0;34m(\u001b[0m\u001b[0;36m2\u001b[0m \u001b[0;34m+\u001b[0m \u001b[0;34m\"2\"\u001b[0m\u001b[0;34m)\u001b[0m\u001b[0;34m\u001b[0m\u001b[0;34m\u001b[0m\u001b[0m\n\u001b[0m",
            "\u001b[0;31mTypeError\u001b[0m: unsupported operand type(s) for +: 'int' and 'str'"
          ]
        }
      ]
    },
    {
      "cell_type": "code",
      "source": [
        "while True:\n",
        "  no_one = int(input(\"The first number please : \"))\n",
        "  no_two = int(input(\"The second number please : \"))\n",
        "  division = no_one / no_two\n",
        "  print(\"the result of the division is : \", division)\n",
        "  break"
      ],
      "metadata": {
        "colab": {
          "base_uri": "https://localhost:8080/"
        },
        "id": "y0uDFsoe96Tw",
        "outputId": "664aa381-9349-45c4-b30b-223ca422d5af"
      },
      "execution_count": null,
      "outputs": [
        {
          "output_type": "stream",
          "name": "stdout",
          "text": [
            "The first number please : 7\n",
            "The second number please : 1\n",
            "the result of the division is :  7.0\n"
          ]
        }
      ]
    },
    {
      "cell_type": "code",
      "source": [
        "# This is a ZeroDivision error\n",
        "while True:\n",
        "  no_one = int(input(\"The first number please : \"))\n",
        "  no_two = int(input(\"The second number please : \"))\n",
        "  division = no_one / no_two\n",
        "  print(\"the result of the division is : \", division)\n",
        "  break"
      ],
      "metadata": {
        "colab": {
          "base_uri": "https://localhost:8080/",
          "height": 270
        },
        "id": "37f0_HtIApK3",
        "outputId": "9b357718-fc3b-47c8-9726-8d44b7758b8c"
      },
      "execution_count": null,
      "outputs": [
        {
          "name": "stdout",
          "output_type": "stream",
          "text": [
            "The first number please : 7\n",
            "The second number please : 0\n"
          ]
        },
        {
          "output_type": "error",
          "ename": "ZeroDivisionError",
          "evalue": "ignored",
          "traceback": [
            "\u001b[0;31m---------------------------------------------------------------------------\u001b[0m",
            "\u001b[0;31mZeroDivisionError\u001b[0m                         Traceback (most recent call last)",
            "\u001b[0;32m<ipython-input-13-73210be93d21>\u001b[0m in \u001b[0;36m<module>\u001b[0;34m\u001b[0m\n\u001b[1;32m      2\u001b[0m   \u001b[0mno_one\u001b[0m \u001b[0;34m=\u001b[0m \u001b[0mint\u001b[0m\u001b[0;34m(\u001b[0m\u001b[0minput\u001b[0m\u001b[0;34m(\u001b[0m\u001b[0;34m\"The first number please : \"\u001b[0m\u001b[0;34m)\u001b[0m\u001b[0;34m)\u001b[0m\u001b[0;34m\u001b[0m\u001b[0;34m\u001b[0m\u001b[0m\n\u001b[1;32m      3\u001b[0m   \u001b[0mno_two\u001b[0m \u001b[0;34m=\u001b[0m \u001b[0mint\u001b[0m\u001b[0;34m(\u001b[0m\u001b[0minput\u001b[0m\u001b[0;34m(\u001b[0m\u001b[0;34m\"The second number please : \"\u001b[0m\u001b[0;34m)\u001b[0m\u001b[0;34m)\u001b[0m\u001b[0;34m\u001b[0m\u001b[0;34m\u001b[0m\u001b[0m\n\u001b[0;32m----> 4\u001b[0;31m   \u001b[0mdivision\u001b[0m \u001b[0;34m=\u001b[0m \u001b[0mno_one\u001b[0m \u001b[0;34m/\u001b[0m \u001b[0mno_two\u001b[0m\u001b[0;34m\u001b[0m\u001b[0;34m\u001b[0m\u001b[0m\n\u001b[0m\u001b[1;32m      5\u001b[0m   \u001b[0mprint\u001b[0m\u001b[0;34m(\u001b[0m\u001b[0;34m\"the result of the division is : \"\u001b[0m\u001b[0;34m,\u001b[0m \u001b[0mdivision\u001b[0m\u001b[0;34m)\u001b[0m\u001b[0;34m\u001b[0m\u001b[0;34m\u001b[0m\u001b[0m\n\u001b[1;32m      6\u001b[0m   \u001b[0;32mbreak\u001b[0m\u001b[0;34m\u001b[0m\u001b[0;34m\u001b[0m\u001b[0m\n",
            "\u001b[0;31mZeroDivisionError\u001b[0m: division by zero"
          ]
        }
      ]
    },
    {
      "cell_type": "code",
      "source": [
        "while True:\n",
        "  no_one = int(input(\"The first number please : \"))\n",
        "  no_two = int(input(\"The second number please : \"))\n",
        "  \n",
        "  try:\n",
        "    division = no_one / no_two\n",
        "    print(\"the result of the division is : \", division)\n",
        "    break\n",
        "  except:\n",
        "    print(\"Something is wrong. Try again\")"
      ],
      "metadata": {
        "colab": {
          "base_uri": "https://localhost:8080/"
        },
        "id": "Xa7rFjZJAsob",
        "outputId": "7e84d6b1-f354-445d-b9bb-7793ee9798c1"
      },
      "execution_count": null,
      "outputs": [
        {
          "output_type": "stream",
          "name": "stdout",
          "text": [
            "The first number please : 7\n",
            "The second number please : 0\n",
            "Something is wrong. Try again\n",
            "The first number please : 7\n",
            "The second number please : 1\n",
            "the result of the division is :  7.0\n"
          ]
        }
      ]
    },
    {
      "cell_type": "code",
      "source": [
        "while True:\n",
        "  no_one = int(input(\"The first number please : \"))\n",
        "  no_two = int(input(\"The second number please : \"))\n",
        "  \n",
        "  try:\n",
        "    division = no_one / no_two\n",
        "    print(\"the result of the division is : \", division)\n",
        "    break\n",
        "  except ZeroDivisionError:\n",
        "    print(\"You tried to divide by zero. Enter again and don't use zero\")"
      ],
      "metadata": {
        "colab": {
          "base_uri": "https://localhost:8080/"
        },
        "id": "DKErz03wBZ7p",
        "outputId": "94e4118a-8a9d-4d62-efcd-440fca239585"
      },
      "execution_count": null,
      "outputs": [
        {
          "output_type": "stream",
          "name": "stdout",
          "text": [
            "The first number please : 5\n",
            "The second number please : 0\n",
            "You tried to divide by zero. Enter again and don't use zero\n",
            "The first number please : 5\n",
            "The second number please : 2\n",
            "the result of the division is :  2.5\n"
          ]
        }
      ]
    },
    {
      "cell_type": "code",
      "source": [
        "try:\n",
        "  sonuç = \"4\" + \"5\"\n",
        "  print(\"hello\")\n",
        "\n",
        "except TypeError:\n",
        "  print(\"Type error var tipi kontrol etsen iyi olur.\")\n",
        "\n",
        "else:\n",
        "  print(\"Demekki except çalışmamış.\")\n",
        "\n",
        "finally:\n",
        "  print(\"Sonunda sıra bana geldi. Her zaman çalışırım.\")"
      ],
      "metadata": {
        "colab": {
          "base_uri": "https://localhost:8080/"
        },
        "id": "57uo1r-PDRdl",
        "outputId": "fd8c3a33-2bf0-4764-c581-bee325725189"
      },
      "execution_count": null,
      "outputs": [
        {
          "output_type": "stream",
          "name": "stdout",
          "text": [
            "hello\n",
            "Demekki except çalışmamış.\n",
            "Sonunda sıra bana geldi. Her zaman çalışırım.\n"
          ]
        }
      ]
    },
    {
      "cell_type": "code",
      "source": [
        "try:\n",
        "  sonuç = 4 + \"5\"\n",
        "  print(\"hello\")\n",
        "\n",
        "except TypeError:\n",
        "  print(\"Type error var tipi kontrol etsen iyi olur.\")\n",
        "\n",
        "else:\n",
        "  print(\"Demekki except çalışmamış. Her zaman çalışırım.\")\n",
        "\n",
        "finally:\n",
        "  print(\"Sonunda sıra bana geldi.\")"
      ],
      "metadata": {
        "colab": {
          "base_uri": "https://localhost:8080/"
        },
        "id": "x58WnuCbO19U",
        "outputId": "11f0f583-8ca9-45ef-d36a-776f66a68d24"
      },
      "execution_count": null,
      "outputs": [
        {
          "output_type": "stream",
          "name": "stdout",
          "text": [
            "Type error var tipi kontrol etsen iyi olur.\n",
            "Sonunda sıra bana geldi.\n"
          ]
        }
      ]
    },
    {
      "cell_type": "code",
      "source": [
        "try:\n",
        "  print(\"yalan dünya\")\n",
        "  sonuç = 4 + \"5\"\n",
        "  print(\"hello\")\n",
        "\n",
        "except TypeError:\n",
        "  print(\"Type error var tipi kontrol etsen iyi olur.\")\n",
        "\n",
        "else:\n",
        "  print(\"Demekki except çalışmamış.\")\n",
        "\n",
        "finally:\n",
        "  print(\"Sonunda sıra bana geldi. Her zaman çalışırım.\")"
      ],
      "metadata": {
        "colab": {
          "base_uri": "https://localhost:8080/"
        },
        "id": "FwUfSzpLO5Aj",
        "outputId": "07fd76c2-64dd-420b-c730-128cd28a7c49"
      },
      "execution_count": null,
      "outputs": [
        {
          "output_type": "stream",
          "name": "stdout",
          "text": [
            "yalan dünya\n",
            "Type error var tipi kontrol etsen iyi olur.\n",
            "Sonunda sıra bana geldi. Her zaman çalışırım.\n"
          ]
        }
      ]
    },
    {
      "cell_type": "code",
      "source": [
        "try:\n",
        "  print(\"yalan dünya\")\n",
        "  sonuç = 4 + \"5\"\n",
        "  print(\"hello\")\n",
        "\n",
        "except ValueError:\n",
        "  print(\"Type error var tipi kontrol etsen iyi olur.\")\n",
        "\n",
        "else:\n",
        "  print(\"Demekki except çalışmamış.\")\n",
        "\n",
        "finally:\n",
        "  print(\"Sonunda sıra bana geldi. Her zaman çalışırım.\")"
      ],
      "metadata": {
        "colab": {
          "base_uri": "https://localhost:8080/",
          "height": 270
        },
        "id": "Bq1SZVKbPP3F",
        "outputId": "21baac44-373b-48c2-e87a-de096de46ae6"
      },
      "execution_count": null,
      "outputs": [
        {
          "output_type": "stream",
          "name": "stdout",
          "text": [
            "yalan dünya\n",
            "Sonunda sıra bana geldi. Her zaman çalışırım.\n"
          ]
        },
        {
          "output_type": "error",
          "ename": "TypeError",
          "evalue": "ignored",
          "traceback": [
            "\u001b[0;31m---------------------------------------------------------------------------\u001b[0m",
            "\u001b[0;31mTypeError\u001b[0m                                 Traceback (most recent call last)",
            "\u001b[0;32m<ipython-input-24-dca40e3fda89>\u001b[0m in \u001b[0;36m<module>\u001b[0;34m\u001b[0m\n\u001b[1;32m      1\u001b[0m \u001b[0;32mtry\u001b[0m\u001b[0;34m:\u001b[0m\u001b[0;34m\u001b[0m\u001b[0;34m\u001b[0m\u001b[0m\n\u001b[1;32m      2\u001b[0m   \u001b[0mprint\u001b[0m\u001b[0;34m(\u001b[0m\u001b[0;34m\"yalan dünya\"\u001b[0m\u001b[0;34m)\u001b[0m\u001b[0;34m\u001b[0m\u001b[0;34m\u001b[0m\u001b[0m\n\u001b[0;32m----> 3\u001b[0;31m   \u001b[0msonuç\u001b[0m \u001b[0;34m=\u001b[0m \u001b[0;36m4\u001b[0m \u001b[0;34m+\u001b[0m \u001b[0;34m\"5\"\u001b[0m\u001b[0;34m\u001b[0m\u001b[0;34m\u001b[0m\u001b[0m\n\u001b[0m\u001b[1;32m      4\u001b[0m   \u001b[0mprint\u001b[0m\u001b[0;34m(\u001b[0m\u001b[0;34m\"hello\"\u001b[0m\u001b[0;34m)\u001b[0m\u001b[0;34m\u001b[0m\u001b[0;34m\u001b[0m\u001b[0m\n\u001b[1;32m      5\u001b[0m \u001b[0;34m\u001b[0m\u001b[0m\n",
            "\u001b[0;31mTypeError\u001b[0m: unsupported operand type(s) for +: 'int' and 'str'"
          ]
        }
      ]
    },
    {
      "cell_type": "code",
      "source": [
        "try:\n",
        "  print(\"yalan dünya\")\n",
        "  sonuç = 4 + \"5\"\n",
        "  print(\"hello\")\n",
        "\n",
        "except:\n",
        "  print(\"Type error var tipi kontrol etsen iyi olur.\")\n",
        "\n",
        "else:\n",
        "  print(\"Demekki except çalışmamış.\")\n",
        "\n",
        "finally:\n",
        "  print(\"Sonunda sıra bana geldi. Her zaman çalışırım.\")"
      ],
      "metadata": {
        "colab": {
          "base_uri": "https://localhost:8080/"
        },
        "id": "3wmbaOHyPXF6",
        "outputId": "d4b25622-1f01-4292-ba58-fc33b9542599"
      },
      "execution_count": null,
      "outputs": [
        {
          "output_type": "stream",
          "name": "stdout",
          "text": [
            "yalan dünya\n",
            "Type error var tipi kontrol etsen iyi olur.\n",
            "Sonunda sıra bana geldi. Her zaman çalışırım.\n"
          ]
        }
      ]
    },
    {
      "cell_type": "code",
      "source": [
        "try:\n",
        "  print(\"yalan dünya\")\n",
        "  sonuç = 4 + \"5\"\n",
        "  print(\"hello\")\n",
        "\n",
        "except TypeError:\n",
        "  print(\"Type Error'e göre işlem yap, kod yaz.\")\n",
        "except ValueError:\n",
        "  print(\"Value Error'e göre işlem yap, kod yaz.\")\n",
        "except ZeroDivisionError:\n",
        "  print(\"ZeroDivision Error'e göre işlem yap, kod yaz.\")\n",
        "\n",
        "else:\n",
        "  print(\"Demekki except çalışmamış.\")\n",
        "\n",
        "finally:\n",
        "  print(\"Sonunda sıra bana geldi. Her zaman çalışırım.\")"
      ],
      "metadata": {
        "colab": {
          "base_uri": "https://localhost:8080/"
        },
        "id": "N852NFDNPpFi",
        "outputId": "b328df2b-44d9-4968-ddfe-f8801a00f119"
      },
      "execution_count": null,
      "outputs": [
        {
          "output_type": "stream",
          "name": "stdout",
          "text": [
            "yalan dünya\n",
            "Type Error'e göre işlem yap, kod yaz.\n",
            "Sonunda sıra bana geldi. Her zaman çalışırım.\n"
          ]
        }
      ]
    },
    {
      "cell_type": "code",
      "source": [
        "while True:\n",
        "  no_one = int(input(\"The first number please : \"))\n",
        "  no_two = int(input(\"The second number please : \"))\n",
        "  \n",
        "  try:\n",
        "    division = no_one / no_two\n",
        "    print(\"the result of the division is : \", division)\n",
        "    break\n",
        "  except Exception as e:  # Hangi hata olduğunu bulmaya yarar.\n",
        "    print(\"something went wrong... Try again.\")\n",
        "    print(\"Probably it is because of '{}' error\".format(e))\n",
        "    break"
      ],
      "metadata": {
        "colab": {
          "base_uri": "https://localhost:8080/"
        },
        "id": "MTd0jIPcQQBF",
        "outputId": "9b4b8c8c-cf2d-42f1-ccd2-99cb048d0d51"
      },
      "execution_count": null,
      "outputs": [
        {
          "output_type": "stream",
          "name": "stdout",
          "text": [
            "The first number please : 5\n",
            "The second number please : 0\n",
            "something went wrong... Try again.\n",
            "Probably it is because of 'division by zero' error\n"
          ]
        }
      ]
    },
    {
      "cell_type": "code",
      "source": [
        ""
      ],
      "metadata": {
        "id": "VrHGVrM3RpcT"
      },
      "execution_count": null,
      "outputs": []
    }
  ]
}