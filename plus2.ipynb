{
  "nbformat": 4,
  "nbformat_minor": 0,
  "metadata": {
    "colab": {
      "name": "plus2.ipynb",
      "provenance": [],
      "collapsed_sections": [],
      "authorship_tag": "ABX9TyMbBVnh9I3vVUr97T/ZbvVn",
      "include_colab_link": true
    },
    "kernelspec": {
      "name": "python3",
      "display_name": "Python 3"
    },
    "language_info": {
      "name": "python"
    }
  },
  "cells": [
    {
      "cell_type": "markdown",
      "metadata": {
        "id": "view-in-github",
        "colab_type": "text"
      },
      "source": [
        "<a href=\"https://colab.research.google.com/github/Mithra-py/python_plus/blob/main/plus2.ipynb\" target=\"_parent\"><img src=\"https://colab.research.google.com/assets/colab-badge.svg\" alt=\"Open In Colab\"/></a>"
      ]
    },
    {
      "cell_type": "code",
      "execution_count": null,
      "metadata": {
        "id": "y9FDYbH1PpVa"
      },
      "outputs": [],
      "source": [
        "lista = [\"ahmet\", \"mehmet\", False, 0, 22]\n",
        "filtered_list = filter(None, lista)"
      ]
    },
    {
      "cell_type": "code",
      "source": [
        "filtered_list"
      ],
      "metadata": {
        "colab": {
          "base_uri": "https://localhost:8080/"
        },
        "id": "gLlVvw4KUwaa",
        "outputId": "eb6a01a4-8441-4fde-8494-c98696373f87"
      },
      "execution_count": null,
      "outputs": [
        {
          "output_type": "execute_result",
          "data": {
            "text/plain": [
              "<filter at 0x7f17dfebfe10>"
            ]
          },
          "metadata": {},
          "execution_count": 2
        }
      ]
    },
    {
      "cell_type": "code",
      "source": [
        "print(\"The filtered elements are : \")\n",
        "for i in filtered_list:\n",
        "  print(i)"
      ],
      "metadata": {
        "colab": {
          "base_uri": "https://localhost:8080/"
        },
        "id": "U2kL1BqhU0Nb",
        "outputId": "c0a06fee-72ad-4262-c7dd-86c8b29fc222"
      },
      "execution_count": null,
      "outputs": [
        {
          "output_type": "stream",
          "name": "stdout",
          "text": [
            "The filtered elements are : \n",
            "ahmet\n",
            "mehmet\n",
            "22\n"
          ]
        }
      ]
    },
    {
      "cell_type": "code",
      "source": [
        "enumerate(lista, start = 0)"
      ],
      "metadata": {
        "colab": {
          "base_uri": "https://localhost:8080/"
        },
        "id": "j4VlVOmAVAOu",
        "outputId": "0022c215-d8c4-4295-d4d6-2586f21c5651"
      },
      "execution_count": null,
      "outputs": [
        {
          "output_type": "execute_result",
          "data": {
            "text/plain": [
              "<enumerate at 0x7f17db1babe0>"
            ]
          },
          "metadata": {},
          "execution_count": 5
        }
      ]
    },
    {
      "cell_type": "code",
      "source": [
        "print(list(enumerate(lista, start = 0)))"
      ],
      "metadata": {
        "colab": {
          "base_uri": "https://localhost:8080/"
        },
        "id": "dNsu00DQWRFV",
        "outputId": "2d1d2efe-39bb-4937-81f4-390fbaa6c069"
      },
      "execution_count": null,
      "outputs": [
        {
          "output_type": "stream",
          "name": "stdout",
          "text": [
            "[(0, 'ahmet'), (1, 'mehmet'), (2, False), (3, 0), (4, 22)]\n"
          ]
        }
      ]
    },
    {
      "cell_type": "code",
      "source": [
        "def ilk_fonksiyonum(x, y) :\n",
        "  print(x ** 2 + y ** 2)"
      ],
      "metadata": {
        "id": "dw2fzZ0QWWvc"
      },
      "execution_count": null,
      "outputs": []
    },
    {
      "cell_type": "code",
      "source": [
        "ilk_fonksiyonum(3, 4)"
      ],
      "metadata": {
        "colab": {
          "base_uri": "https://localhost:8080/"
        },
        "id": "UF9ekp3xe9Ln",
        "outputId": "e2428108-d0d8-4b7d-81dd-66d84439b2fa"
      },
      "execution_count": null,
      "outputs": [
        {
          "output_type": "stream",
          "name": "stdout",
          "text": [
            "25\n"
          ]
        }
      ]
    },
    {
      "cell_type": "code",
      "source": [
        "def hipotenus(a, b):\n",
        "  print((a ** 2 + b ** 2) ** 0.5)"
      ],
      "metadata": {
        "id": "mTwWpR-_fAdF"
      },
      "execution_count": null,
      "outputs": []
    },
    {
      "cell_type": "code",
      "source": [
        "hipotenus(3,4)"
      ],
      "metadata": {
        "colab": {
          "base_uri": "https://localhost:8080/"
        },
        "id": "KecQSb0QfNka",
        "outputId": "832ed984-8c90-42a6-d8aa-191467b3d5cd"
      },
      "execution_count": null,
      "outputs": [
        {
          "output_type": "stream",
          "name": "stdout",
          "text": [
            "5.0\n"
          ]
        }
      ]
    },
    {
      "cell_type": "code",
      "source": [
        "hipotenus(5,12)"
      ],
      "metadata": {
        "colab": {
          "base_uri": "https://localhost:8080/"
        },
        "id": "ZJqlAv2ifPnq",
        "outputId": "2bfae381-fabb-4017-c367-4e1e8a386a1b"
      },
      "execution_count": null,
      "outputs": [
        {
          "output_type": "stream",
          "name": "stdout",
          "text": [
            "13.0\n"
          ]
        }
      ]
    },
    {
      "cell_type": "code",
      "source": [
        "def rumi() :\n",
        "  print(\"\"\"\n",
        "  Cömertlik ve yardım etmede akarsu gibi ol.\n",
        "  Şefkat ve merhamette güneş gibi ol.\n",
        "  Başkalarının kusurunu örtmede gece gibi ol.\n",
        "  Hiddet ve asabiyette ölü gibi ol.\n",
        "  \"\"\")"
      ],
      "metadata": {
        "id": "Vu5cXAJmfTM1"
      },
      "execution_count": null,
      "outputs": []
    },
    {
      "cell_type": "code",
      "source": [
        "rumi()"
      ],
      "metadata": {
        "colab": {
          "base_uri": "https://localhost:8080/"
        },
        "id": "hhLwPJDSgGM-",
        "outputId": "48bcf55d-3083-4045-8fd1-fb0bdb2218a9"
      },
      "execution_count": null,
      "outputs": [
        {
          "output_type": "stream",
          "name": "stdout",
          "text": [
            "Cömertlik ve yardım etmede akarsu gibi ol.\n",
            "  Şefkat ve merhamette güneş gibi ol.\n",
            "  Başkalarının kusurunu örtmede gece gibi ol.\n",
            "  Hiddet ve asabiyette ölü gibi ol.\n",
            "  \n"
          ]
        }
      ]
    },
    {
      "cell_type": "code",
      "source": [
        "def add(sayı1, sayı2):\n",
        "  print(sayı1 + sayı2)"
      ],
      "metadata": {
        "id": "HG7LDIgLgH0o"
      },
      "execution_count": null,
      "outputs": []
    },
    {
      "cell_type": "code",
      "source": [
        "add(2, 6)"
      ],
      "metadata": {
        "colab": {
          "base_uri": "https://localhost:8080/"
        },
        "id": "8aGr1r1vgnFj",
        "outputId": "4960a8fd-0881-4c74-85cf-dc5f6700c29e"
      },
      "execution_count": null,
      "outputs": [
        {
          "output_type": "stream",
          "name": "stdout",
          "text": [
            "8\n"
          ]
        }
      ]
    },
    {
      "cell_type": "code",
      "source": [
        "add(\"5\", \"5\")"
      ],
      "metadata": {
        "colab": {
          "base_uri": "https://localhost:8080/"
        },
        "id": "zyZh57PNgo46",
        "outputId": "f3dcc318-2eb3-4f2c-d2e8-0f225be7cdc8"
      },
      "execution_count": null,
      "outputs": [
        {
          "output_type": "stream",
          "name": "stdout",
          "text": [
            "55\n"
          ]
        }
      ]
    },
    {
      "cell_type": "code",
      "source": [
        "def calculator(x, y, opr):\n",
        "  if opr == \"+\":\n",
        "    print(x + y)\n",
        "  elif opr == \"-\":\n",
        "    print(x - y)\n",
        "  elif opr == \"*\":\n",
        "    print(x * y)\n",
        "  elif opr == \"/\":\n",
        "    print(x / y)\n",
        "  else:\n",
        "    print(\"Enter a valid operator\")"
      ],
      "metadata": {
        "id": "CGIVKS4_guUa"
      },
      "execution_count": null,
      "outputs": []
    },
    {
      "cell_type": "code",
      "source": [
        "calculator(34, 48, \"+\")"
      ],
      "metadata": {
        "colab": {
          "base_uri": "https://localhost:8080/"
        },
        "id": "skZ3o3czkaHa",
        "outputId": "4dc1e151-149b-43ba-e5f0-8dc21d89b0f1"
      },
      "execution_count": null,
      "outputs": [
        {
          "output_type": "stream",
          "name": "stdout",
          "text": [
            "82\n"
          ]
        }
      ]
    },
    {
      "cell_type": "code",
      "source": [
        "def string():\n",
        "  return \"alivelideli\""
      ],
      "metadata": {
        "id": "iBE-U0KTlnLi"
      },
      "execution_count": null,
      "outputs": []
    },
    {
      "cell_type": "code",
      "source": [
        "string()"
      ],
      "metadata": {
        "colab": {
          "base_uri": "https://localhost:8080/",
          "height": 35
        },
        "id": "f9fZaNZ6onVg",
        "outputId": "fba27333-1319-4114-a56d-0913f43335fc"
      },
      "execution_count": null,
      "outputs": [
        {
          "output_type": "execute_result",
          "data": {
            "text/plain": [
              "'alivelideli'"
            ],
            "application/vnd.google.colaboratory.intrinsic+json": {
              "type": "string"
            }
          },
          "metadata": {},
          "execution_count": 35
        }
      ]
    },
    {
      "cell_type": "code",
      "source": [
        "def integer():\n",
        "  return 22"
      ],
      "metadata": {
        "id": "AUN8ayl0oopj"
      },
      "execution_count": null,
      "outputs": []
    },
    {
      "cell_type": "code",
      "source": [
        "integer()"
      ],
      "metadata": {
        "colab": {
          "base_uri": "https://localhost:8080/"
        },
        "id": "EntPlWAoovng",
        "outputId": "28833e1d-6d89-4ba2-e71f-ed7a43f136e3"
      },
      "execution_count": null,
      "outputs": [
        {
          "output_type": "execute_result",
          "data": {
            "text/plain": [
              "22"
            ]
          },
          "metadata": {},
          "execution_count": 39
        }
      ]
    },
    {
      "cell_type": "code",
      "source": [
        "def boolean():\n",
        "  return True"
      ],
      "metadata": {
        "id": "uLSHNb2Vo0Xa"
      },
      "execution_count": null,
      "outputs": []
    },
    {
      "cell_type": "code",
      "source": [
        "if boolean():\n",
        "  print(\"çalışacak mı?\")"
      ],
      "metadata": {
        "colab": {
          "base_uri": "https://localhost:8080/"
        },
        "id": "eS3K_kTVo5Fq",
        "outputId": "1cd5f428-dcc2-4ccc-d465-16e1c67ca506"
      },
      "execution_count": null,
      "outputs": [
        {
          "output_type": "stream",
          "name": "stdout",
          "text": [
            "çalışacak mı?\n"
          ]
        }
      ]
    },
    {
      "cell_type": "code",
      "source": [
        "def listem():\n",
        "  return [1, 2, 3, 4, 5]"
      ],
      "metadata": {
        "id": "Cbzc5ypto--a"
      },
      "execution_count": null,
      "outputs": []
    },
    {
      "cell_type": "code",
      "source": [
        "listem()"
      ],
      "metadata": {
        "colab": {
          "base_uri": "https://localhost:8080/"
        },
        "id": "U2bTRk3sqR7Q",
        "outputId": "b9825197-ca1d-49a2-efbe-7863dd54205c"
      },
      "execution_count": null,
      "outputs": [
        {
          "output_type": "execute_result",
          "data": {
            "text/plain": [
              "[1, 2, 3, 4, 5]"
            ]
          },
          "metadata": {},
          "execution_count": 43
        }
      ]
    },
    {
      "cell_type": "code",
      "source": [
        "type(listem())"
      ],
      "metadata": {
        "colab": {
          "base_uri": "https://localhost:8080/"
        },
        "id": "8_JNCRmVqVdf",
        "outputId": "0b6a0ce4-a11a-470f-df0c-664125044277"
      },
      "execution_count": null,
      "outputs": [
        {
          "output_type": "execute_result",
          "data": {
            "text/plain": [
              "list"
            ]
          },
          "metadata": {},
          "execution_count": 45
        }
      ]
    },
    {
      "cell_type": "code",
      "source": [
        "for i in listem():\n",
        "  print(i)"
      ],
      "metadata": {
        "colab": {
          "base_uri": "https://localhost:8080/"
        },
        "id": "d13CjLIKqYl2",
        "outputId": "d28c038b-a4d8-4e7b-8d76-29dbca3c7fb7"
      },
      "execution_count": null,
      "outputs": [
        {
          "output_type": "stream",
          "name": "stdout",
          "text": [
            "1\n",
            "2\n",
            "3\n",
            "4\n",
            "5\n"
          ]
        }
      ]
    },
    {
      "cell_type": "code",
      "source": [
        "tuple(listem())"
      ],
      "metadata": {
        "colab": {
          "base_uri": "https://localhost:8080/"
        },
        "id": "Ok5Aa9zaqe3s",
        "outputId": "8d630e4d-bbbe-418a-d4b4-3c0d8bfcb394"
      },
      "execution_count": null,
      "outputs": [
        {
          "output_type": "execute_result",
          "data": {
            "text/plain": [
              "(1, 2, 3, 4, 5)"
            ]
          },
          "metadata": {},
          "execution_count": 47
        }
      ]
    },
    {
      "cell_type": "code",
      "source": [
        "def calculator2(x, y, opr):\n",
        "  if opr == \"+\":\n",
        "    return(x + y)\n",
        "  elif opr == \"-\":\n",
        "    return(x - y)\n",
        "  elif opr == \"*\":\n",
        "    return(x * y)\n",
        "  elif opr == \"/\":\n",
        "    return(x / y)\n",
        "  else:\n",
        "    return\"Enter a valid operator\""
      ],
      "metadata": {
        "id": "hLJ9lVNKqnC-"
      },
      "execution_count": null,
      "outputs": []
    },
    {
      "cell_type": "code",
      "source": [
        "print(calculator2(3, 5, \"*\"))"
      ],
      "metadata": {
        "colab": {
          "base_uri": "https://localhost:8080/"
        },
        "id": "FyLVQemfrPnp",
        "outputId": "db7f57d2-be75-41db-e5fd-a4ab4f7b9206"
      },
      "execution_count": null,
      "outputs": [
        {
          "output_type": "stream",
          "name": "stdout",
          "text": [
            "15\n"
          ]
        }
      ]
    },
    {
      "cell_type": "code",
      "source": [
        "def absolute_value (num):\n",
        "  \"\"\"This funtion returns the absolute\n",
        "  value of the given number\"\"\"\n",
        "\n",
        "  if num >= 0:\n",
        "    return num\n",
        "  else:\n",
        "    return -num"
      ],
      "metadata": {
        "id": "Q3HHwaUerXd7"
      },
      "execution_count": null,
      "outputs": []
    },
    {
      "cell_type": "code",
      "source": [
        "absolute_value(-5)"
      ],
      "metadata": {
        "colab": {
          "base_uri": "https://localhost:8080/"
        },
        "id": "46mZQTpWsbax",
        "outputId": "21638f7d-d230-4017-c807-a6d1d30af25d"
      },
      "execution_count": null,
      "outputs": [
        {
          "output_type": "execute_result",
          "data": {
            "text/plain": [
              "5"
            ]
          },
          "metadata": {},
          "execution_count": 53
        }
      ]
    },
    {
      "cell_type": "code",
      "source": [
        "absolute_value(-65)"
      ],
      "metadata": {
        "colab": {
          "base_uri": "https://localhost:8080/"
        },
        "id": "8AzjiV5Rsg50",
        "outputId": "843ea8a4-11ea-4ac5-914a-1e2e81e75693"
      },
      "execution_count": null,
      "outputs": [
        {
          "output_type": "execute_result",
          "data": {
            "text/plain": [
              "65"
            ]
          },
          "metadata": {},
          "execution_count": 54
        }
      ]
    },
    {
      "cell_type": "code",
      "source": [
        "print(absolute_value.__doc__)"
      ],
      "metadata": {
        "colab": {
          "base_uri": "https://localhost:8080/"
        },
        "id": "a-x_Kt9AskPL",
        "outputId": "57ef0b03-8dcd-48a5-edaf-aa5dfb80ea6e"
      },
      "execution_count": null,
      "outputs": [
        {
          "output_type": "stream",
          "name": "stdout",
          "text": [
            "This funtion returns the absolute\n",
            "  value of the given number\n"
          ]
        }
      ]
    },
    {
      "cell_type": "code",
      "source": [
        "print(abs.__doc__)"
      ],
      "metadata": {
        "colab": {
          "base_uri": "https://localhost:8080/"
        },
        "id": "DHvMcNeysoDi",
        "outputId": "17ac4fa7-0917-458a-cb51-90d71d6a676f"
      },
      "execution_count": null,
      "outputs": [
        {
          "output_type": "stream",
          "name": "stdout",
          "text": [
            "Return the absolute value of the argument.\n"
          ]
        }
      ]
    },
    {
      "cell_type": "code",
      "source": [
        ""
      ],
      "metadata": {
        "id": "a2CrDtPosy2V"
      },
      "execution_count": null,
      "outputs": []
    }
  ]
}