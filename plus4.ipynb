{
  "nbformat": 4,
  "nbformat_minor": 0,
  "metadata": {
    "colab": {
      "name": "plus4.ipynb",
      "provenance": [],
      "authorship_tag": "ABX9TyM03gBxbltQuFzfvMi2+UEW",
      "include_colab_link": true
    },
    "kernelspec": {
      "name": "python3",
      "display_name": "Python 3"
    },
    "language_info": {
      "name": "python"
    }
  },
  "cells": [
    {
      "cell_type": "markdown",
      "metadata": {
        "id": "view-in-github",
        "colab_type": "text"
      },
      "source": [
        "<a href=\"https://colab.research.google.com/github/Mithra-py/python_plus/blob/main/plus4.ipynb\" target=\"_parent\"><img src=\"https://colab.research.google.com/assets/colab-badge.svg\" alt=\"Open In Colab\"/></a>"
      ]
    },
    {
      "cell_type": "code",
      "execution_count": null,
      "metadata": {
        "id": "AvTgfDfwshYK"
      },
      "outputs": [],
      "source": [
        "def square(x):\n",
        "  return x ** 2"
      ]
    },
    {
      "cell_type": "code",
      "source": [
        "square(4)"
      ],
      "metadata": {
        "colab": {
          "base_uri": "https://localhost:8080/"
        },
        "id": "oAwY0G2kuWnO",
        "outputId": "5b419607-73c0-4dff-eea7-255b26225752"
      },
      "execution_count": null,
      "outputs": [
        {
          "output_type": "execute_result",
          "data": {
            "text/plain": [
              "16"
            ]
          },
          "metadata": {},
          "execution_count": 2
        }
      ]
    },
    {
      "cell_type": "code",
      "source": [
        "print((lambda x : x ** 2)(2))"
      ],
      "metadata": {
        "colab": {
          "base_uri": "https://localhost:8080/"
        },
        "id": "Q44MMG_buZbb",
        "outputId": "2a9c4b72-2c73-46f4-c211-826cf3b1f631"
      },
      "execution_count": null,
      "outputs": [
        {
          "output_type": "stream",
          "name": "stdout",
          "text": [
            "4\n"
          ]
        }
      ]
    },
    {
      "cell_type": "code",
      "source": [
        "(lambda x : \"odd\" if x % 2 != 0 else \"even\")(6)"
      ],
      "metadata": {
        "colab": {
          "base_uri": "https://localhost:8080/",
          "height": 35
        },
        "id": "iqOuFONsudsn",
        "outputId": "01eaf563-7b65-419e-9233-5d781e66ebb9"
      },
      "execution_count": null,
      "outputs": [
        {
          "output_type": "execute_result",
          "data": {
            "text/plain": [
              "'even'"
            ],
            "application/vnd.google.colaboratory.intrinsic+json": {
              "type": "string"
            }
          },
          "metadata": {},
          "execution_count": 6
        }
      ]
    },
    {
      "cell_type": "code",
      "source": [
        " (lambda x : \"odd\" if x % 2 != 0 else \"even\")(5)"
      ],
      "metadata": {
        "colab": {
          "base_uri": "https://localhost:8080/",
          "height": 35
        },
        "id": "tDRe6P0UwPXR",
        "outputId": "09288732-59f1-465f-f03d-871919611e25"
      },
      "execution_count": null,
      "outputs": [
        {
          "output_type": "execute_result",
          "data": {
            "text/plain": [
              "'odd'"
            ],
            "application/vnd.google.colaboratory.intrinsic+json": {
              "type": "string"
            }
          },
          "metadata": {},
          "execution_count": 7
        }
      ]
    },
    {
      "cell_type": "code",
      "source": [
        "(lambda x : x[::-1])(\"ahmet\")"
      ],
      "metadata": {
        "colab": {
          "base_uri": "https://localhost:8080/",
          "height": 35
        },
        "id": "nGNgQutww4Om",
        "outputId": "a01cf9a9-b846-44c2-bf66-6a815cab78d0"
      },
      "execution_count": null,
      "outputs": [
        {
          "output_type": "execute_result",
          "data": {
            "text/plain": [
              "'temha'"
            ],
            "application/vnd.google.colaboratory.intrinsic+json": {
              "type": "string"
            }
          },
          "metadata": {},
          "execution_count": 8
        }
      ]
    },
    {
      "cell_type": "code",
      "source": [
        "(lambda x : x[::-1])([1, 2, 3, 4])"
      ],
      "metadata": {
        "colab": {
          "base_uri": "https://localhost:8080/"
        },
        "id": "x5g6S-7hxqWD",
        "outputId": "d112ec0f-2760-4261-f0b1-4f04cac19a76"
      },
      "execution_count": null,
      "outputs": [
        {
          "output_type": "execute_result",
          "data": {
            "text/plain": [
              "[4, 3, 2, 1]"
            ]
          },
          "metadata": {},
          "execution_count": 9
        }
      ]
    },
    {
      "cell_type": "code",
      "source": [
        "(lambda a, b : (a + b) / 2)(3, 5)"
      ],
      "metadata": {
        "colab": {
          "base_uri": "https://localhost:8080/"
        },
        "id": "P6xWbBGqxyYn",
        "outputId": "363a93ff-76bf-4476-f775-0193ab860de7"
      },
      "execution_count": null,
      "outputs": [
        {
          "output_type": "execute_result",
          "data": {
            "text/plain": [
              "4.0"
            ]
          },
          "metadata": {},
          "execution_count": 10
        }
      ]
    },
    {
      "cell_type": "code",
      "source": [
        "formul = (lambda a, b : (a + b) / 2)(3, 5)"
      ],
      "metadata": {
        "id": "XWIo6Ycmx9PJ"
      },
      "execution_count": null,
      "outputs": []
    },
    {
      "cell_type": "code",
      "source": [
        "print(formul)"
      ],
      "metadata": {
        "colab": {
          "base_uri": "https://localhost:8080/"
        },
        "id": "9ysD1WDu0EaD",
        "outputId": "31068bcb-220e-4d4a-fe02-61bd6cee41d2"
      },
      "execution_count": null,
      "outputs": [
        {
          "output_type": "stream",
          "name": "stdout",
          "text": [
            "4.0\n"
          ]
        }
      ]
    },
    {
      "cell_type": "code",
      "source": [
        "numbers = [1, 2, 3, 4, 5, 6]"
      ],
      "metadata": {
        "id": "-eJZueNJ0aIH"
      },
      "execution_count": null,
      "outputs": []
    },
    {
      "cell_type": "code",
      "source": [
        "for a in numbers:\n",
        "  print(a, \":\", (lambda x : \"odd\" if x % 2 != 0 else \"even\")(a))"
      ],
      "metadata": {
        "colab": {
          "base_uri": "https://localhost:8080/"
        },
        "id": "LBUpURm51Q78",
        "outputId": "384c95ab-e410-47bf-c6c7-7565da2d183c"
      },
      "execution_count": null,
      "outputs": [
        {
          "output_type": "stream",
          "name": "stdout",
          "text": [
            "1 : odd\n",
            "2 : even\n",
            "3 : odd\n",
            "4 : even\n",
            "5 : odd\n",
            "6 : even\n"
          ]
        }
      ]
    },
    {
      "cell_type": "code",
      "source": [
        "tekçift = lambda x : \"odd\" if x % 2 != 0 else \"even\""
      ],
      "metadata": {
        "id": "CN2nO1P81T_t"
      },
      "execution_count": null,
      "outputs": []
    },
    {
      "cell_type": "code",
      "source": [
        "list(map(tekçift, numbers))"
      ],
      "metadata": {
        "colab": {
          "base_uri": "https://localhost:8080/"
        },
        "id": "A_BJhay53vr5",
        "outputId": "bcd39c8e-c2dd-43ee-e0a9-86187e80922c"
      },
      "execution_count": null,
      "outputs": [
        {
          "output_type": "execute_result",
          "data": {
            "text/plain": [
              "['odd', 'even', 'odd', 'even', 'odd', 'even']"
            ]
          },
          "metadata": {},
          "execution_count": 20
        }
      ]
    },
    {
      "cell_type": "code",
      "source": [
        "def kare(b) :\n",
        "  return b ** 2"
      ],
      "metadata": {
        "id": "YTdNtS8F3zFN"
      },
      "execution_count": null,
      "outputs": []
    },
    {
      "cell_type": "code",
      "source": [
        "sonuc = map(kare, numbers)\n",
        "print(*sonuc)"
      ],
      "metadata": {
        "colab": {
          "base_uri": "https://localhost:8080/"
        },
        "id": "89on8zis46UI",
        "outputId": "27286778-c8e7-46c1-ed12-588dc1aeb6cf"
      },
      "execution_count": null,
      "outputs": [
        {
          "output_type": "stream",
          "name": "stdout",
          "text": [
            "1 4 9 16 25 36\n"
          ]
        }
      ]
    },
    {
      "cell_type": "code",
      "source": [
        "topla = lambda x, y, z : x + y + z"
      ],
      "metadata": {
        "id": "W0oMun135C3h"
      },
      "execution_count": null,
      "outputs": []
    },
    {
      "cell_type": "code",
      "source": [
        "topla(\"a\", \"l\", \"i\")"
      ],
      "metadata": {
        "colab": {
          "base_uri": "https://localhost:8080/",
          "height": 35
        },
        "id": "sB38192f7B3V",
        "outputId": "6e5e59b1-a3a4-406d-c2c8-fcc598b51e3a"
      },
      "execution_count": null,
      "outputs": [
        {
          "output_type": "execute_result",
          "data": {
            "text/plain": [
              "'ali'"
            ],
            "application/vnd.google.colaboratory.intrinsic+json": {
              "type": "string"
            }
          },
          "metadata": {},
          "execution_count": 24
        }
      ]
    },
    {
      "cell_type": "code",
      "source": [
        "letter1 = ['o', 's', 't', 't']\n",
        "letter2 = ['n', 'i', 'e', 'w']\n",
        "letter3 = ['e', 'x', 'n', 'o']\n",
        "numbers = map(lambda x, y, z : x + y + z, letter1, letter2, letter3)\n",
        "\n",
        "print(list(numbers))"
      ],
      "metadata": {
        "colab": {
          "base_uri": "https://localhost:8080/"
        },
        "id": "ap_XINao7FhN",
        "outputId": "ff3a283c-1f08-4280-8699-ceabaed91bf3"
      },
      "execution_count": null,
      "outputs": [
        {
          "output_type": "stream",
          "name": "stdout",
          "text": [
            "['one', 'six', 'ten', 'two']\n"
          ]
        }
      ]
    },
    {
      "cell_type": "code",
      "source": [
        "nums1 = [9, 6, 7, 4]\n",
        "nums2 = [3, 6, 5, 8]\n",
        "func = lambda x, y : (x + y) / 2"
      ],
      "metadata": {
        "id": "LZdprBpQ7xHb"
      },
      "execution_count": null,
      "outputs": []
    },
    {
      "cell_type": "code",
      "source": [
        "numbers = map(func, nums1, nums2)\n",
        "print(list(numbers))"
      ],
      "metadata": {
        "colab": {
          "base_uri": "https://localhost:8080/"
        },
        "id": "0eSEzl1e8JZf",
        "outputId": "09c71b3f-4c58-46bc-db32-d38fc41697fc"
      },
      "execution_count": null,
      "outputs": [
        {
          "output_type": "stream",
          "name": "stdout",
          "text": [
            "[6.0, 6.0, 6.0, 6.0]\n"
          ]
        }
      ]
    },
    {
      "cell_type": "code",
      "source": [
        "words1 = [\"you\", \"much\", \"hard\"]\n",
        "words2 = [\"i \", \"you \", \"he \"]\n",
        "words3 = [\"love \", \"ate \", \"works \"]\n",
        "sentence = map(lambda x, y, z : y + z + x, words1, words2, words3)\n",
        "print(list(sentence))"
      ],
      "metadata": {
        "colab": {
          "base_uri": "https://localhost:8080/"
        },
        "id": "YvReMTxV8iFV",
        "outputId": "f7ea87dd-63c1-4bcf-a69b-0170f1044e73"
      },
      "execution_count": null,
      "outputs": [
        {
          "output_type": "stream",
          "name": "stdout",
          "text": [
            "['i love you', 'you ate much', 'he works hard']\n"
          ]
        }
      ]
    },
    {
      "cell_type": "code",
      "source": [
        "words1 = [\"you\", \"much\", \"hard\"]\n",
        "words2 = [\"i\", \"you\", \"he\"]\n",
        "words3 = [\"love\", \"ate\", \"works\"]\n",
        "sentence = map(lambda x, y, z : x + \" \" + y + \" \" + z, words2, words3, words1)\n",
        "\n",
        "for i in sentence:\n",
        "  print(i)"
      ],
      "metadata": {
        "colab": {
          "base_uri": "https://localhost:8080/"
        },
        "id": "VSV9CtIC92gh",
        "outputId": "e1171ad9-12ec-4464-92b8-8fe7e5703873"
      },
      "execution_count": null,
      "outputs": [
        {
          "output_type": "stream",
          "name": "stdout",
          "text": [
            "i love you\n",
            "you ate much\n",
            "he works hard\n"
          ]
        }
      ]
    },
    {
      "cell_type": "code",
      "source": [
        "first_ten = [0, 1, 2, 3, 4, 5, 6, 7, 8, 9]\n",
        "\n",
        "even = filter(lambda x:x%2 == 0, first_ten)\n",
        "print('Even numbers are: ', list(even))"
      ],
      "metadata": {
        "colab": {
          "base_uri": "https://localhost:8080/"
        },
        "id": "-vcxKK5o-udG",
        "outputId": "6e7a2d59-7238-4a26-c1f6-28f346efe558"
      },
      "execution_count": null,
      "outputs": [
        {
          "output_type": "stream",
          "name": "stdout",
          "text": [
            "Even numbers are:  [0, 2, 4, 6, 8]\n"
          ]
        }
      ]
    },
    {
      "cell_type": "code",
      "source": [
        "words = [\"apple\", \"swim\", \"clock\", \"me\", \"kiwi\", \"banana\"]"
      ],
      "metadata": {
        "id": "_upDYDPBBR1p"
      },
      "execution_count": null,
      "outputs": []
    },
    {
      "cell_type": "code",
      "source": [
        "wordlen = filter(lambda x : len(x) < 5, words)\n",
        "print(\"Words with less than 5 letters are\", * wordlen)"
      ],
      "metadata": {
        "colab": {
          "base_uri": "https://localhost:8080/"
        },
        "id": "i8YCAlicBtoA",
        "outputId": "38e6d6aa-f3c3-4729-822b-7c2386e0b0cb"
      },
      "execution_count": null,
      "outputs": [
        {
          "output_type": "stream",
          "name": "stdout",
          "text": [
            "Words with less than 5 letters are swim me kiwi\n"
          ]
        }
      ]
    },
    {
      "cell_type": "code",
      "source": [
        "for i in filter(lambda x : len(x) < 5, words):\n",
        "  print(i)"
      ],
      "metadata": {
        "colab": {
          "base_uri": "https://localhost:8080/"
        },
        "id": "jLJ6T4JxCWLv",
        "outputId": "6b38c9ad-64d2-4e45-90df-c10df3cbb589"
      },
      "execution_count": null,
      "outputs": [
        {
          "output_type": "stream",
          "name": "stdout",
          "text": [
            "swim\n",
            "me\n",
            "kiwi\n"
          ]
        }
      ]
    },
    {
      "cell_type": "code",
      "source": [
        "vowel_list = [\"a\", \"e\", \"i\", \"o\", \"u\"]\n",
        "letter_ten = [\"a\", \"b\", \"c\", \"d\", \"e\", \"f\", \"g\", \"h\", \"i\", \"j\"]"
      ],
      "metadata": {
        "id": "tWvI-0-sDISE"
      },
      "execution_count": null,
      "outputs": []
    },
    {
      "cell_type": "code",
      "source": [
        "vowels = filter(lambda x : x in vowel_list, letter_ten)\n",
        "print(list(vowels))"
      ],
      "metadata": {
        "colab": {
          "base_uri": "https://localhost:8080/"
        },
        "id": "WD39lwrbMSTj",
        "outputId": "8f2bfea1-cef9-49c8-aa71-650c8365dc05"
      },
      "execution_count": null,
      "outputs": [
        {
          "output_type": "stream",
          "name": "stdout",
          "text": [
            "['a', 'e', 'i']\n"
          ]
        }
      ]
    },
    {
      "cell_type": "code",
      "source": [
        "(lambda x : print(x, \":)\"))(\"ramazan\")"
      ],
      "metadata": {
        "colab": {
          "base_uri": "https://localhost:8080/"
        },
        "id": "gFNyo6PWOL5H",
        "outputId": "414d8812-5f3b-491b-ba1e-d1f79c525f29"
      },
      "execution_count": null,
      "outputs": [
        {
          "output_type": "stream",
          "name": "stdout",
          "text": [
            "ramazan :)\n"
          ]
        }
      ]
    },
    {
      "cell_type": "code",
      "source": [
        "(lambda x : print(x, \":(\"))(\"ramazan\")"
      ],
      "metadata": {
        "colab": {
          "base_uri": "https://localhost:8080/"
        },
        "id": "RuZkw-ERQnJ6",
        "outputId": "2fa00985-01bf-4b96-bc4f-4ca06c333f64"
      },
      "execution_count": null,
      "outputs": [
        {
          "output_type": "stream",
          "name": "stdout",
          "text": [
            "ramazan :(\n"
          ]
        }
      ]
    },
    {
      "cell_type": "code",
      "source": [
        "(lambda x : print(x, \":|\"))(\"ramazan\")"
      ],
      "metadata": {
        "colab": {
          "base_uri": "https://localhost:8080/"
        },
        "id": "-sFvXDXaQyk-",
        "outputId": "04c8b475-51b5-4905-f3e5-a6a0b2403381"
      },
      "execution_count": null,
      "outputs": [
        {
          "output_type": "stream",
          "name": "stdout",
          "text": [
            "ramazan :|\n"
          ]
        }
      ]
    },
    {
      "cell_type": "code",
      "source": [
        "def functioner(emoji):\n",
        "  return lambda x : print(x, emoji)"
      ],
      "metadata": {
        "id": "z_Bl4IDpQ1f3"
      },
      "execution_count": null,
      "outputs": []
    },
    {
      "cell_type": "code",
      "source": [
        "myPrint_smile = functioner(\":)\")\n",
        "myPrint_sad = functioner(\":(\")\n",
        "myPrint_neutral = functioner(\":|\")"
      ],
      "metadata": {
        "id": "f2-fazEhRDm1"
      },
      "execution_count": null,
      "outputs": []
    },
    {
      "cell_type": "code",
      "source": [
        "myPrint_smile(\"ramazan\")"
      ],
      "metadata": {
        "colab": {
          "base_uri": "https://localhost:8080/"
        },
        "id": "OvEmLdXARaac",
        "outputId": "201daef1-471d-4e45-ede0-cc99516a45f6"
      },
      "execution_count": null,
      "outputs": [
        {
          "output_type": "stream",
          "name": "stdout",
          "text": [
            "ramazan :)\n"
          ]
        }
      ]
    },
    {
      "cell_type": "code",
      "source": [
        ""
      ],
      "metadata": {
        "id": "imqNjocPReZY"
      },
      "execution_count": null,
      "outputs": []
    }
  ]
}